{
  "cells": [
    {
      "cell_type": "markdown",
      "metadata": {},
      "source": [
        "---\n",
        "title: \"Countries and their Economic status of their citizens as of 2023, based on their mean daily household per capita\"\n",
        "format: dashboard\n",
        "---"
      ],
      "id": "fc563059"
    },
    {
      "cell_type": "code",
      "metadata": {},
      "source": [
        "# import neccessary packages\n",
        "import pandas as pd\n",
        "import plotly.express as px\n",
        "from itables import show\n",
        "import matplotlib.pyplot as plt\n",
        "import re\n",
        "import numpy as np\n",
        "import country_converter as coco"
      ],
      "id": "8cc7de79",
      "execution_count": null,
      "outputs": []
    },
    {
      "cell_type": "code",
      "metadata": {},
      "source": [
        "# Define a varible for top countries\n",
        "TOP = 20"
      ],
      "id": "27ecdb58",
      "execution_count": null,
      "outputs": []
    },
    {
      "cell_type": "code",
      "metadata": {},
      "source": [
        "# import the data\n",
        "pop_data = pd.read_csv(\"data/pop.csv\")\n",
        "average_daily_income = pd.read_csv(\"data/mincpcap_cppp.csv\")"
      ],
      "id": "979acd08",
      "execution_count": null,
      "outputs": []
    },
    {
      "cell_type": "code",
      "metadata": {},
      "source": [
        "# Define a function to convert a string to numeric, replacing the letters with their appropriate values (thousands(k), million(m) and billion(b))\n",
        "def replace_letters_in_pop(string: str):\n",
        "    \"\"\"Replace letters that are commonly used to write figures in their short forms.\n",
        "    For example, 1000 = 1k\"\"\"\n",
        "    string = string.upper()  # convert the string to upper case\n",
        "    # extract the letter from the string\n",
        "    letter = re.search(\"[BKM]$\", string)\n",
        "    if letter:\n",
        "        letter_conversion_figure = {\"K\": 1000, \"M\": 1000000, \"B\": 1000000000}\n",
        "        char = letter.group(0)\n",
        "        return float(string.replace(char, \"\")) * letter_conversion_figure[char]\n",
        "    else:\n",
        "        return float(string)\n",
        "\n",
        "\n",
        "replace_letters_in_pop_vec = np.vectorize(replace_letters_in_pop)"
      ],
      "id": "113d0436",
      "execution_count": null,
      "outputs": []
    },
    {
      "cell_type": "code",
      "metadata": {},
      "source": [
        "# Melt the data and query for the year 2023\n",
        "\n",
        "# 1. population dataset\n",
        "pop_data_long = pd.melt(\n",
        "    pop_data,\n",
        "    id_vars=\"country\",\n",
        "    var_name=\"year\",\n",
        "    value_name=\"population\",\n",
        ").query(\"year == '2023'\")\n",
        "\n",
        "# 2. average_daily_inocme dataset\n",
        "average_daily_income_long = pd.melt(\n",
        "    average_daily_income,\n",
        "    id_vars=\"country\",\n",
        "    var_name=\"year\",\n",
        "    value_name=\"average_daily_income\",\n",
        ").query(\"year == '2023'\")"
      ],
      "id": "378a5bc9",
      "execution_count": null,
      "outputs": []
    },
    {
      "cell_type": "code",
      "metadata": {},
      "source": [
        "# Add country codes to each of the datasets\n",
        "pop_data_long[\"country_code\"] = coco.convert(\n",
        "    names=pop_data_long[\"country\"], to=\"ISO3\", not_found=None\n",
        ")\n",
        "average_daily_income_long[\"country_code\"] = coco.convert(\n",
        "    names=average_daily_income_long[\"country\"], to=\"ISO3\", not_found=None\n",
        ")"
      ],
      "id": "30f93da8",
      "execution_count": null,
      "outputs": []
    },
    {
      "cell_type": "code",
      "metadata": {},
      "source": [
        "# check for missing values in the datasets and drop them.\n",
        "if average_daily_income_long.isnull().sum().any():\n",
        "    average_daily_income_long = average_daily_income_long.dropna()\n",
        "\n",
        "if pop_data_long.isnull().sum().any():\n",
        "    pop_data_long = pop_data_long.dropna()"
      ],
      "id": "0487b0a8",
      "execution_count": null,
      "outputs": []
    },
    {
      "cell_type": "code",
      "metadata": {},
      "source": [
        "# Convert the year in the average_daily_inocme_long dataset to numeric\n",
        "average_daily_income_long[\"year\"] = pd.to_numeric(average_daily_income_long[\"year\"])\n",
        "\n",
        "# Also, do the same for the pop_data_long dataset\n",
        "pop_data_long[\"year\"] = pd.to_numeric(pop_data_long[\"year\"])"
      ],
      "id": "34a04c46",
      "execution_count": null,
      "outputs": []
    },
    {
      "cell_type": "code",
      "metadata": {},
      "source": [
        "# Sort countries according to their average daily income from highest to lowest and pick the first 20 countries\n",
        "average_daily_income_long = average_daily_income_long.sort_values(\n",
        "    by=\"average_daily_income\", ascending=False\n",
        ")"
      ],
      "id": "3c9101c6",
      "execution_count": null,
      "outputs": []
    },
    {
      "cell_type": "code",
      "metadata": {},
      "source": [
        "# The values of the population in the pop_data_long are not numeric. They have short forms like K,B and M. Replace them appropriately\n",
        "pop_data_long[\"population\"] = replace_letters_in_pop_vec(pop_data_long[\"population\"])"
      ],
      "id": "aa1bc7b6",
      "execution_count": null,
      "outputs": []
    },
    {
      "cell_type": "code",
      "metadata": {},
      "source": [
        "# Drop the year columns in both datasets\n",
        "\n",
        "pop_data_long = pop_data_long.drop(columns=\"year\")\n",
        "average_daily_income_long = average_daily_income_long.drop(columns=\"year\")"
      ],
      "id": "ec299cfc",
      "execution_count": null,
      "outputs": []
    },
    {
      "cell_type": "code",
      "metadata": {},
      "source": [
        "# Merge the two datasets\n",
        "final_dataset = pd.merge(\n",
        "    left=average_daily_income_long,\n",
        "    right=pop_data_long,\n",
        "    on=[\"country\", \"country_code\"],\n",
        "    how=\"inner\",\n",
        ")\n",
        "\n",
        "# Add column for total income person in a country.\n",
        "# average income multiplied by population\n",
        "final_dataset[\"total_income\"] = (\n",
        "    final_dataset[\"population\"] * final_dataset[\"average_daily_income\"]\n",
        ")\n",
        "# Pick the top TOP countries\n",
        "final_dataset = final_dataset"
      ],
      "id": "7ee821b5",
      "execution_count": null,
      "outputs": []
    },
    {
      "cell_type": "markdown",
      "metadata": {},
      "source": [
        "# Home\n",
        "\n",
        "Economic status, for this purpose, is defined as the ability of a household to access household necessities with financial implications.\n",
        "\n",
        "Therefore, the higher the the household per capita, the higher the econimic status and vice versa.\n",
        "\n",
        "# Country populations\n",
        "## Row {height=\"30%\"}\n",
        "### Column {width=\"50%\"}\n",
        "::: {.valuebox title=\"Highest population\" color=\"red\" icon=\"arrow-up\"}\n",
        "`{python} max(pop_data_long[\"population\"])`\n",
        "\n",
        "`{python} pop_data_long.loc[pop_data_long[\"population\"].idxmax()][\"country\"]`\n",
        ":::\n",
        "\n",
        "### Column {width=\"50%\"}\n",
        "::: {.valuebox title=\"Lowest population\" color=\"blue\" icon=\"arrow-down\"}\n",
        "\n",
        "`{python} min(pop_data_long[\"population\"])`\n",
        "\n",
        ":::\n",
        "## Row {height=\"70%\"}\n",
        "### column {.tabset}\n",
        "#### Top `{python} TOP` Countries with highest population\n"
      ],
      "id": "9f10ce40"
    },
    {
      "cell_type": "code",
      "metadata": {},
      "source": [
        "px.bar(\n",
        "    pop_data_long.sort_values(by=\"population\", ascending=False).head(TOP),\n",
        "    x=\"country\",\n",
        "    y=\"population\",\n",
        "    labels={\"country\": \"Country\", \"population\": \"Population (Billion)\"},\n",
        "    text_auto=True,\n",
        "    color=\"country\",\n",
        "    title=f\"Top {TOP} countries with highest population\",\n",
        ")"
      ],
      "id": "8082a856",
      "execution_count": null,
      "outputs": []
    },
    {
      "cell_type": "markdown",
      "metadata": {},
      "source": [
        "#### A map of Countries with their population\n",
        "##### Row\n",
        "###### Column {width=\"80%\"}\n"
      ],
      "id": "fb520b4e"
    },
    {
      "cell_type": "code",
      "metadata": {},
      "source": [
        "px.choropleth(\n",
        "    pop_data_long,\n",
        "    locations=\"country_code\",\n",
        "    color=\"population\",\n",
        "    hover_name=\"country\",\n",
        "    color_continuous_scale=\"reds\",\n",
        ")"
      ],
      "id": "8cbebfc9",
      "execution_count": null,
      "outputs": []
    },
    {
      "cell_type": "markdown",
      "metadata": {},
      "source": [
        "###### Column {width=\"20%\"}\n",
        "\n",
        "India and China are extremely populated compared to other countries.\n",
        "\n",
        "# Average Daily Income\n",
        "## Row {height=\"30%\"}\n",
        "### Column\n",
        "::: {.valuebox title=\"Highest Average Daily Income (USD)\" color=\"red\" icon=\"arrow-up\"}\n",
        "\n",
        "`{python} max(average_daily_income_long[\"average_daily_income\"])`\n",
        "\n",
        "`{python} average_daily_income_long.loc[average_daily_income_long[\"average_daily_income\"].idxmax()][\"country\"]`\n",
        "\n",
        ":::\n",
        "\n",
        "### Column\n",
        "::: {.valuebox title=\"Lowest Average Daily Income (USD)\" color=\"blue\" icon=\"arrow-down\"}\n",
        "\n",
        "`{python} min(average_daily_income_long[\"average_daily_income\"])`\n",
        "\n",
        ":::\n",
        "## Row {height=\"70%\"}\n",
        "### column {.tabset} \n",
        "#### A map showing average daily income\n"
      ],
      "id": "da27fdc1"
    },
    {
      "cell_type": "code",
      "metadata": {},
      "source": [
        "px.choropleth(\n",
        "    average_daily_income_long,\n",
        "    locations=\"country_code\",\n",
        "    color=\"average_daily_income\",\n",
        "    color_continuous_scale=\"reds\",\n",
        "    title=\"A map showing mean daily household per capita (USD)\",\n",
        ")"
      ],
      "id": "90674805",
      "execution_count": null,
      "outputs": []
    },
    {
      "cell_type": "markdown",
      "metadata": {},
      "source": [
        "#### Top `{python} TOP` countries with highest mean daily household per capita\n"
      ],
      "id": "4472924b"
    },
    {
      "cell_type": "code",
      "metadata": {},
      "source": [
        "px.histogram(\n",
        "    average_daily_income_long.sort_values(\n",
        "        by=\"average_daily_income\", ascending=False\n",
        "    ).head(TOP),\n",
        "    x=\"country\",\n",
        "    y=\"average_daily_income\",\n",
        "    color=\"country\",\n",
        "    text_auto=True,\n",
        "    title=f\"Top {TOP} countries with highest mean daily household per capita (USD)\",\n",
        ")"
      ],
      "id": "ed63ddd1",
      "execution_count": null,
      "outputs": []
    },
    {
      "cell_type": "markdown",
      "metadata": {},
      "source": [
        "# Does the size of the population have an effect on average daily income?\n",
        "\n",
        "## Column \n",
        "### Relationship between population and household per capita\n",
        "#### Row {height=\"90%\"}\n",
        "##### Column {width=\"60%\"}\n",
        "###### The size of the population and mean daily household per capita"
      ],
      "id": "d92b86ad"
    },
    {
      "cell_type": "code",
      "metadata": {},
      "source": [
        "px.scatter(\n",
        "    final_dataset,\n",
        "    x=\"average_daily_income\",\n",
        "    y=\"population\",\n",
        "    color=\"country\",\n",
        "    labels={\n",
        "        \"average_daily_income\": \"Average Daily Income ($)\",\n",
        "        \"population\": \"Population in Billions\",\n",
        "    },\n",
        "    title=\"Relationship between the size of the population and daily household per capita\",\n",
        ")"
      ],
      "id": "b5da7e46",
      "execution_count": null,
      "outputs": []
    },
    {
      "cell_type": "markdown",
      "metadata": {},
      "source": [
        "##### Column {width=\"40\"}\n",
        "**Explanation**\n",
        "\n",
        "The size of the population is not a significant factor that affects the average daily income\n",
        "\n",
        "###### The size of the population and average daily income\n"
      ],
      "id": "5fd3859f"
    },
    {
      "cell_type": "code",
      "metadata": {},
      "source": [
        "px.scatter(\n",
        "    final_dataset,\n",
        "    x=\"population\",\n",
        "    y=\"total_income\",\n",
        "    color=\"country\",\n",
        "    labels={\n",
        "        \"total_income\": \"Total Daily Income ($)\",\n",
        "        \"population\": \"Population in Billions\",\n",
        "    },\n",
        "    title=\"Relationship between the size of the population and total daily household per capita\",\n",
        ")"
      ],
      "id": "9fb78e50",
      "execution_count": null,
      "outputs": []
    },
    {
      "cell_type": "markdown",
      "metadata": {},
      "source": [
        "# Data\n",
        "\n",
        "## Row\n",
        "### Column {.tabset}\n",
        "#### Population Data\n",
        "##### Column {.tabset}\n",
        "###### Original Data\n"
      ],
      "id": "c25fd0db"
    },
    {
      "cell_type": "code",
      "metadata": {},
      "source": [
        "show(pop_data, buttons=\"donwload\", footer=True)"
      ],
      "id": "30ba7a8f",
      "execution_count": null,
      "outputs": []
    },
    {
      "cell_type": "markdown",
      "metadata": {},
      "source": [
        "###### Cleaned Data\n"
      ],
      "id": "445f7757"
    },
    {
      "cell_type": "code",
      "metadata": {},
      "source": [
        "show(pop_data_long, buttons=\"donwload\", footer=True)"
      ],
      "id": "8de85fad",
      "execution_count": null,
      "outputs": []
    },
    {
      "cell_type": "markdown",
      "metadata": {},
      "source": [
        "##### Average Daily Income  Data\n",
        "#### Population Data\n",
        "##### Column {.tabset}\n",
        "###### Original Data\n"
      ],
      "id": "a12083ce"
    },
    {
      "cell_type": "code",
      "metadata": {},
      "source": [
        "show(average_daily_income, buttons=\"donwload\", footer=True)"
      ],
      "id": "ef3cbd64",
      "execution_count": null,
      "outputs": []
    },
    {
      "cell_type": "markdown",
      "metadata": {},
      "source": [
        "###### Cleaned Data\n"
      ],
      "id": "5e1e7b28"
    },
    {
      "cell_type": "code",
      "metadata": {},
      "source": [
        "show(average_daily_income_long, buttons=\"download\", footer=True)"
      ],
      "id": "3facdf75",
      "execution_count": null,
      "outputs": []
    }
  ],
  "metadata": {
    "kernelspec": {
      "name": "python3",
      "language": "python",
      "display_name": "Python 3 (ipykernel)",
      "path": "e:\\PROJECTS\\BOOT CAMP\\tgc_final_project\\.venv\\share\\jupyter\\kernels\\python3"
    }
  },
  "nbformat": 4,
  "nbformat_minor": 5
}