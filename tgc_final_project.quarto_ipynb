{
  "cells": [
    {
      "cell_type": "markdown",
      "metadata": {},
      "source": [
        "---\n",
        "title: \"Economic status of different countries in 2023, based on their average daily income\"\n",
        "format: dashboard\n",
        "---"
      ],
      "id": "6f67b975"
    },
    {
      "cell_type": "code",
      "metadata": {},
      "source": [
        "# import neccessary packages\n",
        "import pandas as pd\n",
        "import plotly.express as px\n",
        "from itables import show\n",
        "import matplotlib.pyplot as plt\n",
        "import re\n",
        "import numpy as np"
      ],
      "id": "ddb84894",
      "execution_count": null,
      "outputs": []
    },
    {
      "cell_type": "code",
      "metadata": {},
      "source": [
        "# import the data\n",
        "pop_data = pd.read_csv(\"data/pop.csv\")\n",
        "average_daily_inocme = pd.read_csv(\"data/mincpcap_cppp.csv\")"
      ],
      "id": "40b1cb0e",
      "execution_count": null,
      "outputs": []
    },
    {
      "cell_type": "code",
      "metadata": {},
      "source": [
        "# Melt the data, and query for the year 2023\n",
        "\n",
        "# 1. population dataset\n",
        "pop_data_long = pd.melt(\n",
        "    pop_data,\n",
        "    id_vars=\"country\",\n",
        "    var_name=\"year\",\n",
        "    value_name=\"population\",\n",
        ").query(\"year == '2023'\")\n",
        "\n",
        "# 2. average_daily_inocme dataset\n",
        "average_daily_inocme_long = pd.melt(\n",
        "    average_daily_inocme,\n",
        "    id_vars=\"country\",\n",
        "    var_name=\"year\",\n",
        "    value_name=\"ave_daily_income\",\n",
        ").query(\"year == '2023'\")"
      ],
      "id": "3e9bac98",
      "execution_count": null,
      "outputs": []
    },
    {
      "cell_type": "code",
      "metadata": {},
      "source": [
        "# drop missing values in population dataset\n",
        "pop_data_long = pop_data_long.dropna()"
      ],
      "id": "a69c315a",
      "execution_count": null,
      "outputs": []
    },
    {
      "cell_type": "code",
      "metadata": {},
      "source": [
        "# Merge population data with average daily income on country.\n",
        "\n",
        "pop_ave_income_data = pd.merge(\n",
        "    pop_data_long, average_daily_inocme_long, on=[\"country\", \"year\"], how=\"left\"\n",
        ")"
      ],
      "id": "7459e531",
      "execution_count": null,
      "outputs": []
    },
    {
      "cell_type": "code",
      "metadata": {},
      "source": [
        "# Convert the year column of the new dataset, pop_ave_income_data, to numeric\n",
        "pop_ave_income_data[\"year\"] = pd.to_numeric(pop_ave_income_data[\"year\"])\n",
        "\n",
        "# convert the population column to numeric.\n",
        "# 1. Repalace letters appropriately.\n",
        "## Extract the letter from the values, normally, the letter is at the end.\n",
        "\n",
        "\n",
        "# Define a function to convert a string to numeric, replacing the letters with their values\n",
        "def replace_letters_in_pop(string: str):\n",
        "    \"\"\"Replace letters that are commonly used to write figures in their short forms.\n",
        "    For example, 1000 = 1k\"\"\"\n",
        "    string = string.upper()\n",
        "    # extract the letter from the string\n",
        "    letter = re.search(\"[BKM]$\", string)\n",
        "    if letter:\n",
        "        letter_conversion_figure = {\"K\": 1000, \"M\": 1000000, \"B\": 1000000000}\n",
        "        char = letter.group(0)\n",
        "        return float(string.replace(char,\"\"))*letter_conversion_figure[char]\n",
        "    else:\n",
        "        return float(string) \n",
        "\n",
        "\n",
        "replace_letters_in_pop_vec = np.vectorize(replace_letters_in_pop)\n",
        "\n",
        "pop_ave_income_data[\"population\"] = replace_letters_in_pop_vec(pop_ave_income_data[\"population\"])"
      ],
      "id": "18f23d22",
      "execution_count": null,
      "outputs": []
    },
    {
      "cell_type": "markdown",
      "metadata": {},
      "source": [
        "# Country populations\n",
        "## Row {height=\"20%\"}\n",
        "### Column {width=\"30%\"}\n",
        "::: {.valuebox title=\"Highest population\" color=\"red\" icon=\"arrow-up\"}\n",
        "\n",
        "`{python} max(pop_ave_income_data[\"population\"])`\n",
        "\n",
        ":::\n",
        "\n",
        "### Column {width=\"30%\"}\n",
        "::: {.valuebox title=\"minimum population\" color=\"blue\" icon=\"arrow-down\"}\n",
        "\n",
        "`{python} min(pop_ave_income_data[\"population\"])`\n",
        "\n",
        ":::\n",
        "## Row\n",
        "### column {.tabset} \n",
        "#### Original data\n",
        "\n",
        "The data being analysed in this section was downloaded from [gapminder](https://www.gapminder.org/data/)"
      ],
      "id": "5f5b064c"
    },
    {
      "cell_type": "code",
      "metadata": {},
      "source": [
        "show(pop_data)"
      ],
      "id": "492bfab7",
      "execution_count": null,
      "outputs": []
    },
    {
      "cell_type": "markdown",
      "metadata": {},
      "source": [
        "#### Cleaned data"
      ],
      "id": "36faecd0"
    },
    {
      "cell_type": "code",
      "metadata": {},
      "source": [
        "show(pop_data_long)"
      ],
      "id": "3a0b9f5e",
      "execution_count": null,
      "outputs": []
    },
    {
      "cell_type": "markdown",
      "metadata": {},
      "source": [
        "#### Visualize the data\n"
      ],
      "id": "ff028d7e"
    },
    {
      "cell_type": "markdown",
      "metadata": {},
      "source": [
        "# Average Daily Income\n",
        "\n",
        "The data being analysed in this section was downloaded from [gapminder](https://www.gapminder.org/data/)\n",
        "\n",
        "## Row {height=\"20%\"}\n",
        "### Column {width=\"30%\"}\n",
        "::: {.valuebox title=\"Highest Average Daily Income\" color=\"red\" icon=\"arrow-up\"}\n",
        "\n",
        "`{python} max(pop_ave_income_data[\"ave_daily_income\"])`\n",
        "\n",
        ":::\n",
        "\n",
        "### Column {width=\"30%\"}\n",
        "::: {.valuebox title=\"minimum Average Daily Income\" color=\"blue\" icon=\"arrow-down\"}\n",
        "\n",
        "`{python} min(pop_ave_income_data[\"ave_daily_income\"])`\n",
        "\n",
        ":::\n",
        "## Row\n",
        "### column {.tabset} \n",
        "#### Original data\n",
        "\n",
        "The data being analysed in this section was downloaded from [gapminder](https://www.gapminder.org/data/)"
      ],
      "id": "b012735e"
    },
    {
      "cell_type": "code",
      "metadata": {},
      "source": [
        "show(average_daily_inocme)"
      ],
      "id": "1fe16ae5",
      "execution_count": null,
      "outputs": []
    },
    {
      "cell_type": "markdown",
      "metadata": {},
      "source": [
        "#### Cleaned data"
      ],
      "id": "96984c66"
    },
    {
      "cell_type": "code",
      "metadata": {},
      "source": [
        "show(average_daily_inocme_long)"
      ],
      "id": "41e331de",
      "execution_count": null,
      "outputs": []
    },
    {
      "cell_type": "markdown",
      "metadata": {},
      "source": [
        "#### Visualize the data\n"
      ],
      "id": "116b8d0b"
    },
    {
      "cell_type": "markdown",
      "metadata": {},
      "source": [
        "# Does the size of the population have an effect on average daily income?\n",
        "\n",
        "## Column \n",
        "### Relationship between the size of the population and average daily income"
      ],
      "id": "80b31042"
    },
    {
      "cell_type": "code",
      "metadata": {},
      "source": [
        "px.scatter(\n",
        "    pop_ave_income_data,\n",
        "    x=\"ave_daily_income\",\n",
        "    y=\"population\",\n",
        "    color=\"country\",\n",
        "    title=\"Relationship between the size of the population and average daily income \",\n",
        "    labels={\n",
        "        \"ave_daily_income\": \"Average Daily Income ($)\",\n",
        "        \"population\": \"Population in Billions\",\n",
        "    },\n",
        ")\n",
        "\n",
        "\"\"\"The size of the population is not a significant factor that affects the average daily income\"\"\""
      ],
      "id": "07bfd253",
      "execution_count": null,
      "outputs": []
    },
    {
      "cell_type": "markdown",
      "metadata": {},
      "source": [
        "#### A map showing the countries with their respective average daily income\n"
      ],
      "id": "7b2485b9"
    },
    {
      "cell_type": "code",
      "metadata": {},
      "source": [
        "# A map showing the countries with their respective average daily income\n",
        "\n",
        "px.choropleth(\n",
        "    pop_ave_income_data,\n",
        "    locations=\"country\",\n",
        "    color=\"ave_daily_income\",\n",
        "    hover_name=\"country\",\n",
        "    title=\"Map of countries with their average daily income\",\n",
        "    color_continuous_scale=\"reds\",\n",
        ")"
      ],
      "id": "66944610",
      "execution_count": null,
      "outputs": []
    }
  ],
  "metadata": {
    "kernelspec": {
      "name": "python3",
      "language": "python",
      "display_name": "Python 3 (ipykernel)",
      "path": "e:\\PROJECTS\\BOOT CAMP\\tgc_final_project\\.venv\\share\\jupyter\\kernels\\python3"
    }
  },
  "nbformat": 4,
  "nbformat_minor": 5
}